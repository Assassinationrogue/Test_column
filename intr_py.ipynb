{
  "nbformat": 4,
  "nbformat_minor": 0,
  "metadata": {
    "colab": {
      "name": "intr.py",
      "provenance": [],
      "authorship_tag": "ABX9TyNVu0M54aTGJWp6YDcLLa3O",
      "include_colab_link": true
    },
    "kernelspec": {
      "name": "python3",
      "display_name": "Python 3"
    }
  },
  "cells": [
    {
      "cell_type": "markdown",
      "metadata": {
        "id": "view-in-github",
        "colab_type": "text"
      },
      "source": [
        "<a href=\"https://colab.research.google.com/github/Assassinationrogue/Test_column/blob/main/intr_py.ipynb\" target=\"_parent\"><img src=\"https://colab.research.google.com/assets/colab-badge.svg\" alt=\"Open In Colab\"/></a>"
      ]
    },
    {
      "cell_type": "code",
      "metadata": {
        "id": "-dS61NNNwvUf"
      },
      "source": [
        "def greeting(first_name, last_name):\n",
        "                   print(f\"Hello {first_name} {last_name}\")\n",
        "\n",
        "\n",
        "greeting (\"Saumyadip\", \"Biswas\")\n"
      ],
      "execution_count": null,
      "outputs": []
    },
    {
      "cell_type": "markdown",
      "metadata": {
        "id": "5g80M7cDLWGF"
      },
      "source": [
        "**String Replacement Fields**\n"
      ]
    },
    {
      "cell_type": "code",
      "metadata": {
        "id": "YN70ibEeLFxc",
        "outputId": "bad5c8e0-08fd-450e-a593-86c371cece42",
        "colab": {
          "base_uri": "https://localhost:8080/",
          "height": 272
        }
      },
      "source": [
        "print(\"There are {0} days in {1}, {2}, {3}, {4}, {5}, {6}, and {7}\"\n",
        "      .format(31,\"Jan\",\"Mar\",\"May\", \"Jul\", \"Aug\",\"Oct\",\"Dec\"))\n",
        "\n",
        "\n",
        "print(\"\"\"\n",
        "Jaunary {1}\n",
        "February {0}\n",
        "March {1}\n",
        "April {2}\n",
        "May {1}\n",
        "June {2}\n",
        "July {1}\n",
        "August {1}\n",
        "September {2}\n",
        "October {1}\n",
        "November {2}\n",
        "December {1}\n",
        "\"\"\".format(28,31,30))"
      ],
      "execution_count": 2,
      "outputs": [
        {
          "output_type": "stream",
          "text": [
            "There are 31 days in Jan, Mar, May, Jul, Aug, Oct, and Dec\n",
            "\n",
            "Jaunary 31\n",
            "February 28\n",
            "March 31\n",
            "April 30\n",
            "May 31\n",
            "June 30\n",
            "July 31\n",
            "August 31\n",
            "September 30\n",
            "October 31\n",
            "November 30\n",
            "December 31\n",
            "\n"
          ],
          "name": "stdout"
        }
      ]
    },
    {
      "cell_type": "code",
      "metadata": {
        "id": "r8gY8VEV71Uu",
        "outputId": "84b5ff7e-cd06-409c-aa6b-031f2fd98a16",
        "colab": {
          "base_uri": "https://localhost:8080/",
          "height": 85
        }
      },
      "source": [
        "print (\"=\"*40)\n",
        "print (\"author: johnsmith@sample.com\")\n",
        "print (\"date: 01-01-2021\")\n",
        "print (\"=\"*40)"
      ],
      "execution_count": null,
      "outputs": [
        {
          "output_type": "stream",
          "text": [
            "========================================\n",
            "author: johnsmith@sample.com\n",
            "date: 01-01-2021\n",
            "========================================\n"
          ],
          "name": "stdout"
        }
      ]
    }
  ]
}