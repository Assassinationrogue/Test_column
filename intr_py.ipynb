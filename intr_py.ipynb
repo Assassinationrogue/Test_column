{
  "nbformat": 4,
  "nbformat_minor": 0,
  "metadata": {
    "colab": {
      "name": "intr.py",
      "provenance": [],
      "authorship_tag": "ABX9TyNadeHcesEI5qw7PcL6N9CS",
      "include_colab_link": true
    },
    "kernelspec": {
      "name": "python3",
      "display_name": "Python 3"
    }
  },
  "cells": [
    {
      "cell_type": "markdown",
      "metadata": {
        "id": "view-in-github",
        "colab_type": "text"
      },
      "source": [
        "<a href=\"https://colab.research.google.com/github/Assassinationrogue/Test_column/blob/main/intr_py.ipynb\" target=\"_parent\"><img src=\"https://colab.research.google.com/assets/colab-badge.svg\" alt=\"Open In Colab\"/></a>"
      ]
    },
    {
      "cell_type": "markdown",
      "metadata": {
        "id": "dC9KteQKLpb9"
      },
      "source": [
        "**Printing first code by defining function with double arguments**"
      ]
    },
    {
      "cell_type": "code",
      "metadata": {
        "id": "-dS61NNNwvUf"
      },
      "source": [
        "def greeting(first_name, last_name):\n",
        "                   print(f\"Hello {first_name} {last_name}\")\n",
        "\n",
        "\n",
        "greeting (\"Saumyadip\", \"Biswas\")\n"
      ],
      "execution_count": null,
      "outputs": []
    },
    {
      "cell_type": "markdown",
      "metadata": {
        "id": "5g80M7cDLWGF"
      },
      "source": [
        "**String Replacement Fields**\n"
      ]
    },
    {
      "cell_type": "code",
      "metadata": {
        "id": "YN70ibEeLFxc",
        "outputId": "bad5c8e0-08fd-450e-a593-86c371cece42",
        "colab": {
          "base_uri": "https://localhost:8080/",
          "height": 272
        }
      },
      "source": [
        "print(\"There are {0} days in {1}, {2}, {3}, {4}, {5}, {6}, and {7}\"\n",
        "      .format(31,\"Jan\",\"Mar\",\"May\", \"Jul\", \"Aug\",\"Oct\",\"Dec\"))\n",
        "\n",
        "\n",
        "print(\"\"\"\n",
        "Jaunary {1}\n",
        "February {0}\n",
        "March {1}\n",
        "April {2}\n",
        "May {1}\n",
        "June {2}\n",
        "July {1}\n",
        "August {1}\n",
        "September {2}\n",
        "October {1}\n",
        "November {2}\n",
        "December {1}\n",
        "\"\"\".format(28,31,30))"
      ],
      "execution_count": 2,
      "outputs": [
        {
          "output_type": "stream",
          "text": [
            "There are 31 days in Jan, Mar, May, Jul, Aug, Oct, and Dec\n",
            "\n",
            "Jaunary 31\n",
            "February 28\n",
            "March 31\n",
            "April 30\n",
            "May 31\n",
            "June 30\n",
            "July 31\n",
            "August 31\n",
            "September 30\n",
            "October 31\n",
            "November 30\n",
            "December 31\n",
            "\n"
          ],
          "name": "stdout"
        }
      ]
    },
    {
      "cell_type": "code",
      "metadata": {
        "id": "r8gY8VEV71Uu",
        "outputId": "84b5ff7e-cd06-409c-aa6b-031f2fd98a16",
        "colab": {
          "base_uri": "https://localhost:8080/",
          "height": 85
        }
      },
      "source": [
        "print (\"=\"*40)\n",
        "print (\"author: johnsmith@sample.com\")\n",
        "print (\"date: 01-01-2021\")\n",
        "print (\"=\"*40)"
      ],
      "execution_count": null,
      "outputs": [
        {
          "output_type": "stream",
          "text": [
            "========================================\n",
            "author: johnsmith@sample.com\n",
            "date: 01-01-2021\n",
            "========================================\n"
          ],
          "name": "stdout"
        }
      ]
    },
    {
      "cell_type": "markdown",
      "metadata": {
        "id": "vQkEvwlVORkB"
      },
      "source": [
        "**String formatting**"
      ]
    },
    {
      "cell_type": "code",
      "metadata": {
        "id": "nKPCjs9kOQgp",
        "outputId": "f7cbefb5-38b2-43b3-dda3-b37b52027008",
        "colab": {
          "base_uri": "https://localhost:8080/",
          "height": 663
        }
      },
      "source": [
        "for i in range (1, 13):\n",
        "     print (\"No. {0:2} squared is {1:4} and cubed is {2:4}\".format(i,i**2,i**3))  # here we have refered column number after the replacement number i.e., 0 is replacement number and 2 is column number.\n",
        "\n",
        "\n",
        "print ()\n",
        "\n",
        "for i in range (1, 13):\n",
        "     print (\"No. {0:<2} squared is {1:<4} and cubed is {2:<4}\".format(i,i**2,i**3))  #greater than sign has been used before column number to make the text left align by default it is right alinged.\n",
        "  \n",
        "\n",
        "print ()\n",
        "\n",
        "for i in range (1, 13):\n",
        "     print (\"No. {0:^2} squared is {1:^4} and cubed is {2:^4}\".format(i,i**2,i**3))  # for centre alinged ^ has been used."
      ],
      "execution_count": 6,
      "outputs": [
        {
          "output_type": "stream",
          "text": [
            "No.  1 squared is    1 and cubed is    1\n",
            "No.  2 squared is    4 and cubed is    8\n",
            "No.  3 squared is    9 and cubed is   27\n",
            "No.  4 squared is   16 and cubed is   64\n",
            "No.  5 squared is   25 and cubed is  125\n",
            "No.  6 squared is   36 and cubed is  216\n",
            "No.  7 squared is   49 and cubed is  343\n",
            "No.  8 squared is   64 and cubed is  512\n",
            "No.  9 squared is   81 and cubed is  729\n",
            "No. 10 squared is  100 and cubed is 1000\n",
            "No. 11 squared is  121 and cubed is 1331\n",
            "No. 12 squared is  144 and cubed is 1728\n",
            "\n",
            "No. 1  squared is 1    and cubed is 1   \n",
            "No. 2  squared is 4    and cubed is 8   \n",
            "No. 3  squared is 9    and cubed is 27  \n",
            "No. 4  squared is 16   and cubed is 64  \n",
            "No. 5  squared is 25   and cubed is 125 \n",
            "No. 6  squared is 36   and cubed is 216 \n",
            "No. 7  squared is 49   and cubed is 343 \n",
            "No. 8  squared is 64   and cubed is 512 \n",
            "No. 9  squared is 81   and cubed is 729 \n",
            "No. 10 squared is 100  and cubed is 1000\n",
            "No. 11 squared is 121  and cubed is 1331\n",
            "No. 12 squared is 144  and cubed is 1728\n",
            "\n",
            "No. 1  squared is  1   and cubed is  1  \n",
            "No. 2  squared is  4   and cubed is  8  \n",
            "No. 3  squared is  9   and cubed is  27 \n",
            "No. 4  squared is  16  and cubed is  64 \n",
            "No. 5  squared is  25  and cubed is 125 \n",
            "No. 6  squared is  36  and cubed is 216 \n",
            "No. 7  squared is  49  and cubed is 343 \n",
            "No. 8  squared is  64  and cubed is 512 \n",
            "No. 9  squared is  81  and cubed is 729 \n",
            "No. 10 squared is 100  and cubed is 1000\n",
            "No. 11 squared is 121  and cubed is 1331\n",
            "No. 12 squared is 144  and cubed is 1728\n"
          ],
          "name": "stdout"
        }
      ]
    }
  ]
}