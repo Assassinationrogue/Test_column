{
  "nbformat": 4,
  "nbformat_minor": 0,
  "metadata": {
    "colab": {
      "name": "intr.py",
      "provenance": [],
      "authorship_tag": "ABX9TyPDKhM8MPox04qxTdLzzGTZ",
      "include_colab_link": true
    },
    "kernelspec": {
      "name": "python3",
      "display_name": "Python 3"
    }
  },
  "cells": [
    {
      "cell_type": "markdown",
      "metadata": {
        "id": "view-in-github",
        "colab_type": "text"
      },
      "source": [
        "<a href=\"https://colab.research.google.com/github/Assassinationrogue/Test_column/blob/main/intr_py.ipynb\" target=\"_parent\"><img src=\"https://colab.research.google.com/assets/colab-badge.svg\" alt=\"Open In Colab\"/></a>"
      ]
    },
    {
      "cell_type": "code",
      "metadata": {
        "id": "-dS61NNNwvUf",
        "outputId": "c28b47f7-25a6-471b-fc97-eb4c29e88e07",
        "colab": {
          "base_uri": "https://localhost:8080/",
          "height": 34
        }
      },
      "source": [
        "def greeting(first_name, last_name):\n",
        "                   print(f\"Hello {first_name} {last_name}\")\n",
        "\n",
        "\n",
        "greeting (\"Saumyadip\", \"Biswas\")\n"
      ],
      "execution_count": 1,
      "outputs": [
        {
          "output_type": "stream",
          "text": [
            "Hello Saumyadip Biswas\n"
          ],
          "name": "stdout"
        }
      ]
    }
  ]
}