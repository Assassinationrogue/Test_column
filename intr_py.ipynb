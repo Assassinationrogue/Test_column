{
  "nbformat": 4,
  "nbformat_minor": 0,
  "metadata": {
    "colab": {
      "name": "intr.py",
      "provenance": [],
      "authorship_tag": "ABX9TyO8ob1iF+TMIEc76bHOOWk4",
      "include_colab_link": true
    },
    "kernelspec": {
      "name": "python3",
      "display_name": "Python 3"
    }
  },
  "cells": [
    {
      "cell_type": "markdown",
      "metadata": {
        "id": "view-in-github",
        "colab_type": "text"
      },
      "source": [
        "<a href=\"https://colab.research.google.com/github/Assassinationrogue/Test_column/blob/main/intr_py.ipynb\" target=\"_parent\"><img src=\"https://colab.research.google.com/assets/colab-badge.svg\" alt=\"Open In Colab\"/></a>"
      ]
    },
    {
      "cell_type": "code",
      "metadata": {
        "id": "-dS61NNNwvUf"
      },
      "source": [
        "def greeting(first_name, last_name):\n",
        "                   print(f\"Hello {first_name} {last_name}\")\n",
        "\n",
        "\n",
        "greeting (\"Saumyadip\", \"Biswas\")\n"
      ],
      "execution_count": null,
      "outputs": []
    },
    {
      "cell_type": "code",
      "metadata": {
        "id": "r8gY8VEV71Uu",
        "outputId": "84b5ff7e-cd06-409c-aa6b-031f2fd98a16",
        "colab": {
          "base_uri": "https://localhost:8080/",
          "height": 85
        }
      },
      "source": [
        "print (\"=\"*40)\n",
        "print (\"author: johnsmith@sample.com\")\n",
        "print (\"date: 01-01-2021\")\n",
        "print (\"=\"*40)"
      ],
      "execution_count": 26,
      "outputs": [
        {
          "output_type": "stream",
          "text": [
            "========================================\n",
            "author: johnsmith@sample.com\n",
            "date: 01-01-2021\n",
            "========================================\n"
          ],
          "name": "stdout"
        }
      ]
    }
  ]
}