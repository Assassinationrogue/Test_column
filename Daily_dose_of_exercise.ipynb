{
  "nbformat": 4,
  "nbformat_minor": 0,
  "metadata": {
    "colab": {
      "name": "Daily_dose_of_exercise.ipynb",
      "provenance": [],
      "authorship_tag": "ABX9TyMIqLI7mu7illGY0BzN3QK/",
      "include_colab_link": true
    },
    "kernelspec": {
      "name": "python3",
      "display_name": "Python 3"
    }
  },
  "cells": [
    {
      "cell_type": "markdown",
      "metadata": {
        "id": "view-in-github",
        "colab_type": "text"
      },
      "source": [
        "<a href=\"https://colab.research.google.com/github/Assassinationrogue/Test_column/blob/main/Daily_dose_of_exercise.ipynb\" target=\"_parent\"><img src=\"https://colab.research.google.com/assets/colab-badge.svg\" alt=\"Open In Colab\"/></a>"
      ]
    },
    {
      "cell_type": "markdown",
      "metadata": {
        "id": "xnEqjutsB1PI"
      },
      "source": [
        "**Exercise 1:** Convert age into number of days.    \n"
      ]
    },
    {
      "cell_type": "code",
      "metadata": {
        "id": "R87z9HLI_l7b",
        "outputId": "777b9011-b5be-454d-cd8a-584872da94f4",
        "colab": {
          "base_uri": "https://localhost:8080/",
          "height": 51
        }
      },
      "source": [
        "def age_calculation (age_number, days_in_a_year = 365):\n",
        "      return  age_number * days_in_a_year\n",
        "\n",
        "\n",
        "age = input(\"Enter your age: \")\n",
        "calculation_criteria = age_calculation(int(age))\n",
        "print (f\"You have lived {calculation_criteria} days! in {age} years.\")\n",
        "\n"
      ],
      "execution_count": 7,
      "outputs": [
        {
          "output_type": "stream",
          "text": [
            "Enter your age: 65\n",
            "You have lived 23725 days! in 65 years.\n"
          ],
          "name": "stdout"
        }
      ]
    }
  ]
}