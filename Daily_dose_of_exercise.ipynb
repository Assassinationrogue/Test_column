{
  "nbformat": 4,
  "nbformat_minor": 0,
  "metadata": {
    "colab": {
      "name": "Daily_dose_of_exercise.ipynb",
      "provenance": [],
      "authorship_tag": "ABX9TyN09Xln75gF0g4gVoCHb1RU",
      "include_colab_link": true
    },
    "kernelspec": {
      "name": "python3",
      "display_name": "Python 3"
    }
  },
  "cells": [
    {
      "cell_type": "markdown",
      "metadata": {
        "id": "view-in-github",
        "colab_type": "text"
      },
      "source": [
        "<a href=\"https://colab.research.google.com/github/Assassinationrogue/Test_column/blob/main/Daily_dose_of_exercise.ipynb\" target=\"_parent\"><img src=\"https://colab.research.google.com/assets/colab-badge.svg\" alt=\"Open In Colab\"/></a>"
      ]
    },
    {
      "cell_type": "markdown",
      "metadata": {
        "id": "xnEqjutsB1PI"
      },
      "source": [
        "**Exercise 1:** Convert age into number of days.    \n"
      ]
    },
    {
      "cell_type": "code",
      "metadata": {
        "id": "R87z9HLI_l7b",
        "outputId": "b5f47890-dfa4-42dd-9e5a-5cae88c23b98",
        "colab": {
          "base_uri": "https://localhost:8080/",
          "height": 85
        }
      },
      "source": [
        "def age_calculation (age_number,days_in_a_year = 365):\n",
        "    return age_number * days_in_a_year\n",
        "\n",
        "\n",
        "age = input(\"Enter your age: \")\n",
        "\n",
        "\n",
        "while int(age) <0:\n",
        "    print(\"Error! Please enter appropriate age.\")\n",
        "    age = input(\"Enter your age: \")\n",
        "    if int(age) >0:\n",
        "     break\n",
        "\n",
        "if int(age) >0:\n",
        "    age_criteria = age_calculation(int(age),days_in_a_year=365)\n",
        "    print(f\"You have lived {age_criteria} days in {age} years!.\")\n",
        "    print(\"\\n{slightly smiling face}\")\n"
      ],
      "execution_count": null,
      "outputs": [
        {
          "output_type": "stream",
          "text": [
            "Enter your age: 35\n",
            "You have lived 12775 days in 35 years!.\n",
            "\n",
            "{slightly smiling face}\n"
          ],
          "name": "stdout"
        }
      ]
    },
    {
      "cell_type": "code",
      "metadata": {
        "id": "tx7bNUL5jGYp"
      },
      "source": [
        " \n",
        "sentence = input(\"Type here: \").casefold()\n",
        " \n",
        "vowel= sentence.count(\"a\",0,len(sentence)) + sentence.count(\"e\",0,len(sentence)) + sentence.count(\"i\",0,len(sentence)) + sentence.count(\"o\",0,len(sentence)) + sentence.count(\"u\",0,len(sentence))\n",
        " \n",
        " \n",
        " \n",
        "print(f\"{sentence} has {vowel} vowels.\")"
      ],
      "execution_count": null,
      "outputs": []
    }
  ]
}