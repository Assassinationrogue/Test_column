{
  "nbformat": 4,
  "nbformat_minor": 0,
  "metadata": {
    "colab": {
      "name": "Daily_dose_of_exercise.ipynb",
      "provenance": [],
      "authorship_tag": "ABX9TyO1+8yDvKTfsTAWOdV7HzVM",
      "include_colab_link": true
    },
    "kernelspec": {
      "name": "python3",
      "display_name": "Python 3"
    }
  },
  "cells": [
    {
      "cell_type": "markdown",
      "metadata": {
        "id": "view-in-github",
        "colab_type": "text"
      },
      "source": [
        "<a href=\"https://colab.research.google.com/github/Assassinationrogue/Test_column/blob/main/Daily_dose_of_exercise.ipynb\" target=\"_parent\"><img src=\"https://colab.research.google.com/assets/colab-badge.svg\" alt=\"Open In Colab\"/></a>"
      ]
    },
    {
      "cell_type": "markdown",
      "metadata": {
        "id": "xnEqjutsB1PI"
      },
      "source": [
        "**Exercise 1:** Convert age into number of days.    \n"
      ]
    },
    {
      "cell_type": "code",
      "metadata": {
        "id": "R87z9HLI_l7b"
      },
      "source": [
        "def age_calculation (age_number,days_in_a_year = 365):\n",
        "    return age_number * days_in_a_year\n",
        " \n",
        " \n",
        "age = input(\"Enter your age: \")\n",
        " \n",
        " \n",
        "while int(age) <0:\n",
        "    print(\"Error! Please enter appropriate age.\")\n",
        "    age = input(\"Enter your age: \")\n",
        "    if int(age) >0:\n",
        "     break\n",
        " \n",
        "if int(age) >0:\n",
        "    age_criteria = age_calculation(int(age),days_in_a_year=365)\n",
        "    print(f\"You have lived {age_criteria} days in {age} years!.\")\n",
        "    print(\"\\n{slightly smiling face}\")"
      ],
      "execution_count": null,
      "outputs": []
    },
    {
      "cell_type": "code",
      "metadata": {
        "id": "tx7bNUL5jGYp"
      },
      "source": [
        " \n",
        "sentence = input(\"Type here: \").casefold()\n",
        " \n",
        "vowel= sentence.count(\"a\",0,len(sentence)) + sentence.count(\"e\",0,len(sentence)) + sentence.count(\"i\",0,len(sentence)) + sentence.count(\"o\",0,len(sentence)) + sentence.count(\"u\",0,len(sentence))\n",
        " \n",
        " \n",
        " \n",
        "print(f\"{sentence} has {vowel} vowels.\")"
      ],
      "execution_count": null,
      "outputs": []
    },
    {
      "cell_type": "code",
      "metadata": {
        "id": "dnMq0UG7lLK6"
      },
      "source": [
        "song_name = \"Love the way you lie\"\n",
        "artist = \"Eminem\"\n",
        "featured_artist = \"Rihanna\"\n",
        "album=\"Recovery\"\n",
        "released = 2010\n",
        "genre= \"Hip-Hop/Rap\"\n",
        "recorded = 2009 \n",
        "length =(4*60)+23\n",
        " \n",
        "print (\"\\033[1m\" +song_name)\n",
        "print (\"*\"*len(song_name))\n",
        "print()\n",
        "print(\"Artist: \"+ artist)\n",
        "print (\"Featured Artist: \" + featured_artist)\n",
        "print (\"Album:  \"+ album)\n",
        "print (\"Released: \" + str(released))\n",
        "print(\"Genre: \"+ genre)\n",
        "print (f\"Recorded: {recorded} - {released} \")\n",
        "print (\"Duration in seconds: \"+str(length)+ \" seconds.\")\n",
        "print()\n",
        "print (\"*\"*len(song_name))"
      ],
      "execution_count": null,
      "outputs": []
    },
    {
      "cell_type": "code",
      "metadata": {
        "id": "F4tu0u--zEP3"
      },
      "source": [
        "def vowel_count(txt):\n",
        " sentence = input(txt).casefold()\n",
        " vowel = sentence.count('a',0,len(sentence)) + sentence.count('e',0,len(sentence)) + sentence.count('i',0,len(sentence)) + sentence.count('o',0,len(sentence)) + sentence.count('u',0,len(sentence)) \n",
        " return vowel\n",
        " \n",
        " \n",
        "p = vowel_count(\"Type here: \")\n",
        " \n",
        " \n",
        "print (f'There are {p} vowels in the above typed sentence/word')"
      ],
      "execution_count": null,
      "outputs": []
    },
    {
      "cell_type": "markdown",
      "metadata": {
        "id": "-KHM1j5kMnIv"
      },
      "source": [
        "Alphabet Replacing without using integer in code\n"
      ]
    },
    {
      "cell_type": "code",
      "metadata": {
        "id": "ztHrs-ZbMk9i"
      },
      "source": [
        "decoy = list(range((ord('A')),ord('D')))\n",
        "Alphabets = list(range((ord('A')),(ord('Z'))+(decoy.index(ord('B')))))\n",
        "\n",
        "def alphabetReplacer (removeAlphabet,NewAlphabet,listName):\n",
        "    position = listName.index(ord(removeAlphabet))\n",
        "    remove = listName.remove(ord(removeAlphabet))\n",
        "    insert = listName.insert((position),ord(NewAlphabet))\n",
        "    return remove,insert\n",
        "\n",
        "Gee = input(\"Enter an Alphabet: \")\n",
        "if Alphabets[Alphabets.index(ord('A'))] == ord(Gee):\n",
        "    g = alphabetReplacer('A', 'U', listName=Alphabets)\n",
        "    print(chr(Alphabets[Alphabets.index(ord('U'))]))\n",
        "\n",
        "elif Alphabets[Alphabets.index(ord('G'))] == ord(Gee):\n",
        "    g = alphabetReplacer('G', 'C', listName=Alphabets)\n",
        "    print(chr(Alphabets[Alphabets.index(ord('C'))]))\n",
        "\n",
        "elif Alphabets[Alphabets.index(ord('C'))] == ord(Gee):\n",
        "    g = alphabetReplacer('C', 'G', listName=Alphabets)\n",
        "    print(chr(Alphabets[Alphabets.index(ord('G'))]))\n",
        "\n",
        "elif Alphabets[Alphabets.index(ord('T'))] == ord(Gee):\n",
        "    g = alphabetReplacer('T', 'A', listName=Alphabets)\n",
        "    print(chr(Alphabets[Alphabets.index(ord('A'))]))\n",
        "\n"
      ],
      "execution_count": null,
      "outputs": []
    }
  ]
}