{
  "nbformat": 4,
  "nbformat_minor": 0,
  "metadata": {
    "colab": {
      "name": "Daily_dose_of_exercise.ipynb",
      "provenance": [],
      "authorship_tag": "ABX9TyMy6I3OSIqEEgKcN3bIN1yv",
      "include_colab_link": true
    },
    "kernelspec": {
      "name": "python3",
      "display_name": "Python 3"
    }
  },
  "cells": [
    {
      "cell_type": "markdown",
      "metadata": {
        "id": "view-in-github",
        "colab_type": "text"
      },
      "source": [
        "<a href=\"https://colab.research.google.com/github/Assassinationrogue/Test_column/blob/main/Daily_dose_of_exercise.ipynb\" target=\"_parent\"><img src=\"https://colab.research.google.com/assets/colab-badge.svg\" alt=\"Open In Colab\"/></a>"
      ]
    },
    {
      "cell_type": "markdown",
      "metadata": {
        "id": "xnEqjutsB1PI"
      },
      "source": [
        "**Exercise 1:** Convert age into number of days.    \n"
      ]
    },
    {
      "cell_type": "code",
      "metadata": {
        "id": "R87z9HLI_l7b",
        "outputId": "b5f47890-dfa4-42dd-9e5a-5cae88c23b98",
        "colab": {
          "base_uri": "https://localhost:8080/",
          "height": 85
        }
      },
      "source": [
        "def age_calculation (age_number,days_in_a_year = 365):\n",
        "    return age_number * days_in_a_year\n",
        " \n",
        " \n",
        "age = input(\"Enter your age: \")\n",
        " \n",
        " \n",
        "while int(age) <0:\n",
        "    print(\"Error! Please enter appropriate age.\")\n",
        "    age = input(\"Enter your age: \")\n",
        "    if int(age) >0:\n",
        "     break\n",
        " \n",
        "if int(age) >0:\n",
        "    age_criteria = age_calculation(int(age),days_in_a_year=365)\n",
        "    print(f\"You have lived {age_criteria} days in {age} years!.\")\n",
        "    print(\"\\n{slightly smiling face}\")"
      ],
      "execution_count": null,
      "outputs": [
        {
          "output_type": "stream",
          "text": [
            "Enter your age: 35\n",
            "You have lived 12775 days in 35 years!.\n",
            "\n",
            "{slightly smiling face}\n"
          ],
          "name": "stdout"
        }
      ]
    },
    {
      "cell_type": "code",
      "metadata": {
        "id": "tx7bNUL5jGYp"
      },
      "source": [
        " \n",
        "sentence = input(\"Type here: \").casefold()\n",
        " \n",
        "vowel= sentence.count(\"a\",0,len(sentence)) + sentence.count(\"e\",0,len(sentence)) + sentence.count(\"i\",0,len(sentence)) + sentence.count(\"o\",0,len(sentence)) + sentence.count(\"u\",0,len(sentence))\n",
        " \n",
        " \n",
        " \n",
        "print(f\"{sentence} has {vowel} vowels.\")"
      ],
      "execution_count": null,
      "outputs": []
    },
    {
      "cell_type": "code",
      "metadata": {
        "id": "dnMq0UG7lLK6",
        "outputId": "fc2d6e9f-3bf3-4ae2-8334-62ed3e96994f",
        "colab": {
          "base_uri": "https://localhost:8080/",
          "height": 241
        }
      },
      "source": [
        "song_name = \"Love the way you lie\"\n",
        "artist = \"Eminem\"\n",
        "featured_artist = \"Rihanna\"\n",
        "album=\"Recovery\"\n",
        "released = 2010\n",
        "genre= \"Hip-Hop/Rap\"\n",
        "recorded = 2009 \n",
        "length =(4*60)+23\n",
        " \n",
        "print (\"\\033[1m\" +song_name)\n",
        "print (\"*\"*len(song_name))\n",
        "print()\n",
        "print(\"Artist: \"+ artist)\n",
        "print (\"Featured Artist: \" + featured_artist)\n",
        "print (\"Album:  \"+ album)\n",
        "print (\"Released: \" + str(released))\n",
        "print(\"Genre: \"+ genre)\n",
        "print (f\"Recorded: {recorded} - {released} \")\n",
        "print (\"Duration in seconds: \"+str(length)+ \" seconds.\")\n",
        "print()\n",
        "print (\"*\"*len(song_name))"
      ],
      "execution_count": 13,
      "outputs": [
        {
          "output_type": "stream",
          "text": [
            "\u001b[1mLove the way you lie\n",
            "********************\n",
            "\n",
            "Artist: Eminem\n",
            "Featured Artist: Rihanna\n",
            "Album:  Recovery\n",
            "Released: 2010\n",
            "Genre: Hip-Hop/Rap\n",
            "Recorded: 2009 - 2010 \n",
            "Duration in seconds: 263 seconds.\n",
            "\n",
            "********************\n"
          ],
          "name": "stdout"
        }
      ]
    }
  ]
}